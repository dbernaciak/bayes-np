{
 "cells": [
  {
   "cell_type": "markdown",
   "id": "d5c9d538-df21-47ec-88be-dad3b74a0a23",
   "metadata": {},
   "source": [
    "# CRP MCMC inference\n",
    "Adapted from Tamara Broderick's code on https://github.com/tbroderick/bnp_tutorial\n",
    "\n",
    "Extended to concentration parameter inference using algorithm in West (1992) using Gamma(2,4) prior."
   ]
  },
  {
   "cell_type": "code",
   "execution_count": 1,
   "id": "b313da74-e56f-4f40-85fd-c82443c9b6ae",
   "metadata": {},
   "outputs": [],
   "source": [
    "import matplotlib.pyplot as plt\n",
    "import numpy as np\n",
    "import asyncio\n",
    "from crp_mcmc import GaussianMixture, CRPGibbs, run_mcmc\n",
    "%matplotlib widget"
   ]
  },
  {
   "cell_type": "markdown",
   "id": "c24463db-fc21-4d96-98a2-58e4fe5421ac",
   "metadata": {},
   "source": [
    "## Define Gaussian Mixture to create clustered data"
   ]
  },
  {
   "cell_type": "code",
   "execution_count": 2,
   "id": "f8e41083-7046-44f4-88a2-b3e371819690",
   "metadata": {},
   "outputs": [],
   "source": [
    "gm = GaussianMixture(1, [0.3, 0.4, 0.2, 0.1]) # define Gaussian mixture with sd=1 and given frequencies\n",
    "data= gm.rvs(1000) # create 1000 data points"
   ]
  },
  {
   "cell_type": "markdown",
   "id": "2139d1fe-5daa-4701-8454-06d7164afdd6",
   "metadata": {},
   "source": [
    "## Run fast numba implementation of the MCMC Gibbs sampler"
   ]
  },
  {
   "cell_type": "markdown",
   "id": "000777fe-c9ff-44ae-88eb-7b00b6c118a2",
   "metadata": {},
   "source": [
    "### $\\alpha$ constant"
   ]
  },
  {
   "cell_type": "code",
   "execution_count": 3,
   "id": "9114ac41-d9b8-43c7-a561-d6106a4c9767",
   "metadata": {},
   "outputs": [
    {
     "name": "stdout",
     "output_type": "stream",
     "text": [
      "Wall time: 56.9 s\n"
     ]
    }
   ],
   "source": [
    "%%time\n",
    "z, probs, alphas = run_mcmc(data, alpha=0.01, max_iter=1000)"
   ]
  },
  {
   "cell_type": "code",
   "execution_count": 4,
   "id": "fe28704c-fdb6-482a-830b-1633aa77f7fc",
   "metadata": {},
   "outputs": [
    {
     "data": {
      "application/vnd.jupyter.widget-view+json": {
       "model_id": "4029fd11d7f34373a442500390a1e801",
       "version_major": 2,
       "version_minor": 0
      },
      "text/plain": [
       "Canvas(toolbar=Toolbar(toolitems=[('Home', 'Reset original view', 'home', 'home'), ('Back', 'Back to previous …"
      ]
     },
     "metadata": {},
     "output_type": "display_data"
    }
   ],
   "source": [
    "colors = [\"blue\", \"orange\", \"green\", \"yellow\", \"red\", \"purple\", \"black\"]\n",
    "fix, ax = plt.subplots(figsize=(12, 5))\n",
    "for i, dat in enumerate(data):\n",
    "    ax.scatter(dat[0], dat[1], c=colors[int(z[i])])"
   ]
  },
  {
   "cell_type": "markdown",
   "id": "4e6efd7a-4af0-4064-8b46-18c3e5428890",
   "metadata": {},
   "source": [
    "### $\\alpha$ inferred"
   ]
  },
  {
   "cell_type": "code",
   "execution_count": 5,
   "id": "80e7e5ca-e127-4ee2-b237-93be536d0833",
   "metadata": {},
   "outputs": [
    {
     "name": "stdout",
     "output_type": "stream",
     "text": [
      "Wall time: 1min 1s\n"
     ]
    }
   ],
   "source": [
    "%%time\n",
    "z, probs, alphas = run_mcmc(data, max_iter=1000)"
   ]
  },
  {
   "cell_type": "code",
   "execution_count": 6,
   "id": "ad080f82-d12c-406a-a669-019a4526abf7",
   "metadata": {},
   "outputs": [
    {
     "data": {
      "text/plain": [
       "0.5995496881493255"
      ]
     },
     "execution_count": 6,
     "metadata": {},
     "output_type": "execute_result"
    }
   ],
   "source": [
    "alphas[500:].mean()"
   ]
  },
  {
   "cell_type": "code",
   "execution_count": 7,
   "id": "d2d4372e-4199-4b1a-885e-5505d195f5ee",
   "metadata": {},
   "outputs": [
    {
     "data": {
      "application/vnd.jupyter.widget-view+json": {
       "model_id": "9faf430dd2ad4158933e9e596f37845f",
       "version_major": 2,
       "version_minor": 0
      },
      "text/plain": [
       "Canvas(toolbar=Toolbar(toolitems=[('Home', 'Reset original view', 'home', 'home'), ('Back', 'Back to previous …"
      ]
     },
     "metadata": {},
     "output_type": "display_data"
    }
   ],
   "source": [
    "colors = [\"blue\", \"orange\", \"green\", \"yellow\", \"red\", \"purple\", \"black\", \"teal\"]\n",
    "fix, ax = plt.subplots(figsize=(12, 5))\n",
    "for i, dat in enumerate(data):\n",
    "    ax.scatter(dat[0], dat[1], c=colors[int(z[i])])"
   ]
  },
  {
   "cell_type": "markdown",
   "id": "46758b21-5e0e-4016-bb1c-485546607c17",
   "metadata": {},
   "source": [
    "## 9 clusters"
   ]
  },
  {
   "cell_type": "code",
   "execution_count": 8,
   "id": "bcf2f4a4-9697-4657-bdae-cac43df94f35",
   "metadata": {},
   "outputs": [],
   "source": [
    "gm = GaussianMixture(1, [0.1, 0.1, 0.1, 0.1, 0.1, 0.1, 0.1, 0.1, 0.1], mu=np.array([[6, 6], [6, 0], [6, -6], [0, -6], [0, 0], [0, 6], [-6, 6], [-6, 0], [-6, -6]]))\n",
    "data = gm.rvs(1000) # create 1000 data points"
   ]
  },
  {
   "cell_type": "markdown",
   "id": "293e5d17-3902-40d0-b597-b0189cd02c27",
   "metadata": {},
   "source": [
    "### $\\alpha$ constant"
   ]
  },
  {
   "cell_type": "code",
   "execution_count": 9,
   "id": "6c84952a-1488-4473-9a1b-db25a51cfadc",
   "metadata": {},
   "outputs": [
    {
     "name": "stdout",
     "output_type": "stream",
     "text": [
      "Wall time: 1min 28s\n"
     ]
    }
   ],
   "source": [
    "%%time\n",
    "z, probs, alphas = run_mcmc(data, alpha=0.01, max_iter=1000)"
   ]
  },
  {
   "cell_type": "code",
   "execution_count": 10,
   "id": "f92a0548-3e03-4991-832e-1db47f9961a9",
   "metadata": {},
   "outputs": [
    {
     "data": {
      "application/vnd.jupyter.widget-view+json": {
       "model_id": "f485c084407143d29cb53163e629c6e0",
       "version_major": 2,
       "version_minor": 0
      },
      "text/plain": [
       "Canvas(toolbar=Toolbar(toolitems=[('Home', 'Reset original view', 'home', 'home'), ('Back', 'Back to previous …"
      ]
     },
     "metadata": {},
     "output_type": "display_data"
    }
   ],
   "source": [
    "colors = [\"blue\", \"orange\", \"green\", \"yellow\", \"red\", \"purple\", \"black\", \"teal\", \"magenta\", \"brown\", \"lime\"]\n",
    "fix, ax = plt.subplots(figsize=(12, 5))\n",
    "for i, dat in enumerate(data):\n",
    "    ax.scatter(dat[0], dat[1], c=colors[int(z[i])])"
   ]
  },
  {
   "cell_type": "markdown",
   "id": "ae529028-a08f-4422-9226-f6d54aafcb01",
   "metadata": {},
   "source": [
    "### $\\alpha$ inferred with 9 clusters"
   ]
  },
  {
   "cell_type": "code",
   "execution_count": 11,
   "id": "2613bdd2-2009-4859-801c-83642dfc201f",
   "metadata": {},
   "outputs": [
    {
     "name": "stdout",
     "output_type": "stream",
     "text": [
      "Wall time: 1min 45s\n"
     ]
    }
   ],
   "source": [
    "%%time\n",
    "z, probs, alphas = run_mcmc(data, max_iter=1000)"
   ]
  },
  {
   "cell_type": "code",
   "execution_count": 12,
   "id": "ca06cd52-2e9d-48cd-833e-03261047d344",
   "metadata": {},
   "outputs": [
    {
     "data": {
      "application/vnd.jupyter.widget-view+json": {
       "model_id": "48c4e6c45f304fe7965fc014a12cd436",
       "version_major": 2,
       "version_minor": 0
      },
      "text/plain": [
       "Canvas(toolbar=Toolbar(toolitems=[('Home', 'Reset original view', 'home', 'home'), ('Back', 'Back to previous …"
      ]
     },
     "metadata": {},
     "output_type": "display_data"
    }
   ],
   "source": [
    "colors = [\"blue\", \"orange\", \"green\", \"yellow\", \"red\", \"purple\", \"black\", \"teal\", \"magenta\", \"brown\", \"lime\"]\n",
    "fix, ax = plt.subplots(figsize=(12, 5))\n",
    "for i, dat in enumerate(data):\n",
    "    ax.scatter(dat[0], dat[1], c=colors[int(z[i])])"
   ]
  },
  {
   "cell_type": "markdown",
   "id": "9b74ef1b-fb72-41c8-862b-3a9c5e9ac203",
   "metadata": {},
   "source": [
    "## Live animation\n",
    "Watch the clustering process live"
   ]
  },
  {
   "cell_type": "code",
   "execution_count": 13,
   "id": "e6227901-e108-489a-8548-3e1023b4c5c7",
   "metadata": {},
   "outputs": [],
   "source": [
    "gm = GaussianMixture(1, [0.4, 0.3, 0.2, 0.1])\n",
    "data= gm.rvs(100)\n",
    "gb = CRPGibbs(data, 1)"
   ]
  },
  {
   "cell_type": "code",
   "execution_count": 14,
   "id": "ee9dfd7e-7bc2-46f9-bdd8-14435c104bde",
   "metadata": {},
   "outputs": [
    {
     "data": {
      "application/vnd.jupyter.widget-view+json": {
       "model_id": "3ee833f4d1dc4a4ba636fa2f1728433d",
       "version_major": 2,
       "version_minor": 0
      },
      "text/plain": [
       "Canvas(toolbar=Toolbar(toolitems=[('Home', 'Reset original view', 'home', 'home'), ('Back', 'Back to previous …"
      ]
     },
     "metadata": {},
     "output_type": "display_data"
    }
   ],
   "source": [
    "fig = plt.figure()\n",
    "loop = asyncio.get_event_loop()\n",
    "loop.create_task(gb.run_live(0.01, 100, True, fig=fig));"
   ]
  }
 ],
 "metadata": {
  "kernelspec": {
   "display_name": "Python 3 (ipykernel)",
   "language": "python",
   "name": "python3"
  },
  "language_info": {
   "codemirror_mode": {
    "name": "ipython",
    "version": 3
   },
   "file_extension": ".py",
   "mimetype": "text/x-python",
   "name": "python",
   "nbconvert_exporter": "python",
   "pygments_lexer": "ipython3",
   "version": "3.8.5"
  }
 },
 "nbformat": 4,
 "nbformat_minor": 5
}
